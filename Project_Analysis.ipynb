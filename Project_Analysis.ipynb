{
 "cells": [
  {
   "cell_type": "markdown",
   "id": "73bc9548",
   "metadata": {},
   "source": [
    "## Analysis of IMDB Data"
   ]
  },
  {
   "cell_type": "markdown",
   "id": "08416e6e",
   "metadata": {},
   "source": [
    "## PART 1 - Installation and Initial Setup"
   ]
  },
  {
   "cell_type": "code",
   "execution_count": 1,
   "id": "f420401a-86e0-4501-ac55-bbc0e486ef2a",
   "metadata": {
    "execution": {
     "iopub.execute_input": "2025-03-19T20:41:47.887012Z",
     "iopub.status.busy": "2025-03-19T20:41:47.886761Z",
     "iopub.status.idle": "2025-03-19T20:41:49.144299Z",
     "shell.execute_reply": "2025-03-19T20:41:49.143625Z",
     "shell.execute_reply.started": "2025-03-19T20:41:47.886974Z"
    },
    "tags": []
   },
   "outputs": [
    {
     "name": "stderr",
     "output_type": "stream",
     "text": [
      "Setting default log level to \"WARN\".\n",
      "To adjust logging level use sc.setLogLevel(newLevel). For SparkR, use setLogLevel(newLevel).\n",
      "25/03/19 23:01:30 WARN NativeCodeLoader: Unable to load native-hadoop library for your platform... using builtin-java classes where applicable\n"
     ]
    }
   ],
   "source": [
    "import pandas as pd\n",
    "import matplotlib.pyplot as plt\n",
    "from pyspark.sql.functions import col, split, explode\n",
    "from pyspark.sql import SparkSession\n",
    "\n",
    "# Initialize Spark session\n",
    "spark = SparkSession.builder.appName(\"CSVExample\").getOrCreate()"
   ]
  },
  {
   "cell_type": "markdown",
   "id": "e963f4ba",
   "metadata": {},
   "source": [
    "## Loading Data"
   ]
  },
  {
   "cell_type": "markdown",
   "id": "b4356189",
   "metadata": {},
   "source": [
    "Load all data into a Spark dataframe object "
   ]
  },
  {
   "cell_type": "code",
   "execution_count": 2,
   "id": "24beddd1",
   "metadata": {
    "execution": {
     "iopub.execute_input": "2025-03-19T20:41:49.145778Z",
     "iopub.status.busy": "2025-03-19T20:41:49.145565Z",
     "iopub.status.idle": "2025-03-19T20:42:58.596777Z",
     "shell.execute_reply": "2025-03-19T20:42:58.596122Z",
     "shell.execute_reply.started": "2025-03-19T20:41:49.145752Z"
    },
    "tags": []
   },
   "outputs": [
    {
     "name": "stderr",
     "output_type": "stream",
     "text": [
      "                                                                                \r"
     ]
    }
   ],
   "source": [
    "name = spark.read.csv('data/name.basics.new.tsv', sep=r'\\t', header=True, inferSchema = True)\n",
    "titles = spark.read.csv('data/title.basic.new.tsv', sep=r'\\t', header=True,inferSchema = True)\n",
    "principles = spark.read.csv('data/title.principles.new.tsv', sep=r'\\t', header=True, inferSchema = True)\n",
    "ratings = spark.read.csv('data/title.ratings.new.tsv', sep=r'\\t', header=True, inferSchema = True)"
   ]
  },
  {
   "cell_type": "markdown",
   "id": "c65401c7",
   "metadata": {},
   "source": [
    "## Dataset 1 - Name Basic"
   ]
  },
  {
   "cell_type": "markdown",
   "id": "03981851",
   "metadata": {},
   "source": [
    "Previewing the data and seeing the schema of the dataset"
   ]
  },
  {
   "cell_type": "code",
   "execution_count": 5,
   "id": "29db2340",
   "metadata": {
    "execution": {
     "iopub.execute_input": "2025-03-18T19:27:27.767575Z",
     "iopub.status.busy": "2025-03-18T19:27:27.767353Z",
     "iopub.status.idle": "2025-03-18T19:27:35.041507Z",
     "shell.execute_reply": "2025-03-18T19:27:35.040759Z",
     "shell.execute_reply.started": "2025-03-18T19:27:27.767552Z"
    },
    "tags": []
   },
   "outputs": [
    {
     "name": "stdout",
     "output_type": "stream",
     "text": [
      "+---------+-------------------+-------------------------------------+---------+\n",
      "|nconst   |primaryName        |primaryProfession                    |birthYear|\n",
      "+---------+-------------------+-------------------------------------+---------+\n",
      "|nm0000001|Fred Astaire       |soundtrack,actor,miscellaneous       |1899     |\n",
      "|nm0000002|Lauren Bacall      |actress,soundtrack                   |1924     |\n",
      "|nm0000003|Brigitte Bardot    |actress,soundtrack,music_department  |1934     |\n",
      "|nm0000004|John Belushi       |actor,soundtrack,writer              |1949     |\n",
      "|nm0000005|Ingmar Bergman     |writer,director,actor                |1918     |\n",
      "|nm0000006|Ingrid Bergman     |actress,soundtrack,producer          |1915     |\n",
      "|nm0000007|Humphrey Bogart    |actor,soundtrack,producer            |1899     |\n",
      "|nm0000008|Marlon Brando      |actor,soundtrack,director            |1924     |\n",
      "|nm0000009|Richard Burton     |actor,soundtrack,producer            |1925     |\n",
      "|nm0000010|James Cagney       |actor,soundtrack,director            |1899     |\n",
      "|nm0000011|Gary Cooper        |actor,soundtrack,stunts              |1901     |\n",
      "|nm0000012|Bette Davis        |actress,soundtrack,make_up_department|1908     |\n",
      "|nm0000013|Doris Day          |soundtrack,actress,producer          |1922     |\n",
      "|nm0000014|Olivia de Havilland|actress,soundtrack                   |1916     |\n",
      "|nm0000015|James Dean         |actor,miscellaneous                  |1931     |\n",
      "+---------+-------------------+-------------------------------------+---------+\n",
      "only showing top 15 rows\n",
      "\n",
      "root\n",
      " |-- nconst: string (nullable = true)\n",
      " |-- primaryName: string (nullable = true)\n",
      " |-- birthYear: string (nullable = true)\n",
      " |-- deathYear: string (nullable = true)\n",
      " |-- primaryProfession: string (nullable = true)\n",
      " |-- knownForTitles: string (nullable = true)\n",
      "\n"
     ]
    }
   ],
   "source": [
    "name.select(\"nconst\",\"primaryName\",\"primaryProfession\",\"birthYear\").show(15, truncate=False)\n",
    "name.printSchema()"
   ]
  },
  {
   "cell_type": "markdown",
   "id": "65371453",
   "metadata": {},
   "source": [
    "## Dataset 2 - Title Basics"
   ]
  },
  {
   "cell_type": "markdown",
   "id": "d8f3c92f",
   "metadata": {},
   "source": [
    "Previewing the data and seeing the schema of the dataset"
   ]
  },
  {
   "cell_type": "code",
   "execution_count": 8,
   "id": "74c95177",
   "metadata": {
    "execution": {
     "iopub.execute_input": "2025-03-18T19:27:35.042738Z",
     "iopub.status.busy": "2025-03-18T19:27:35.042553Z",
     "iopub.status.idle": "2025-03-18T19:27:35.798798Z",
     "shell.execute_reply": "2025-03-18T19:27:35.798052Z",
     "shell.execute_reply.started": "2025-03-18T19:27:35.042715Z"
    },
    "tags": []
   },
   "outputs": [
    {
     "name": "stdout",
     "output_type": "stream",
     "text": [
      "+---------+---------+----------------------+------------------------+\n",
      "|tconst   |titleType|primaryTitle          |genres                  |\n",
      "+---------+---------+----------------------+------------------------+\n",
      "|tt0000001|short    |Carmencita            |Documentary,Short       |\n",
      "|tt0000002|short    |Le clown et ses chiens|Animation,Short         |\n",
      "|tt0000003|short    |Pauvre Pierrot        |Animation,Comedy,Romance|\n",
      "|tt0000004|short    |Un bon bock           |Animation,Short         |\n",
      "|tt0000005|short    |Blacksmith Scene      |Comedy,Short            |\n",
      "+---------+---------+----------------------+------------------------+\n",
      "only showing top 5 rows\n",
      "\n",
      "root\n",
      " |-- tconst: string (nullable = true)\n",
      " |-- titleType: string (nullable = true)\n",
      " |-- primaryTitle: string (nullable = true)\n",
      " |-- originalTitle: string (nullable = true)\n",
      " |-- isAdult: string (nullable = true)\n",
      " |-- startYear: string (nullable = true)\n",
      " |-- endYear: string (nullable = true)\n",
      " |-- runtimeMinutes: string (nullable = true)\n",
      " |-- genres: string (nullable = true)\n",
      "\n"
     ]
    }
   ],
   "source": [
    "titles.select(\"tconst\", \"titleType\", \"primaryTitle\", \"genres\").show(5, truncate=False)\n",
    "titles.printSchema()"
   ]
  },
  {
   "cell_type": "markdown",
   "id": "f3852bb4",
   "metadata": {},
   "source": [
    "#### Number of Unique Titles"
   ]
  },
  {
   "cell_type": "code",
   "execution_count": 11,
   "id": "2a28caff",
   "metadata": {
    "execution": {
     "iopub.execute_input": "2025-03-18T19:27:35.800245Z",
     "iopub.status.busy": "2025-03-18T19:27:35.800081Z",
     "iopub.status.idle": "2025-03-18T19:27:45.075388Z",
     "shell.execute_reply": "2025-03-18T19:27:45.074692Z",
     "shell.execute_reply.started": "2025-03-18T19:27:35.800224Z"
    },
    "tags": []
   },
   "outputs": [
    {
     "name": "stderr",
     "output_type": "stream",
     "text": [
      "[Stage 18:=====>                                                  (2 + 18) / 20]\r"
     ]
    },
    {
     "name": "stdout",
     "output_type": "stream",
     "text": [
      "+------------+\n",
      "|   titleType|\n",
      "+------------+\n",
      "|    tvSeries|\n",
      "|tvMiniSeries|\n",
      "|     tvMovie|\n",
      "|   tvEpisode|\n",
      "|       movie|\n",
      "|   tvSpecial|\n",
      "|       video|\n",
      "|   videoGame|\n",
      "|     tvShort|\n",
      "|       short|\n",
      "|     tvPilot|\n",
      "+------------+\n",
      "\n"
     ]
    },
    {
     "name": "stderr",
     "output_type": "stream",
     "text": [
      "                                                                                \r"
     ]
    }
   ],
   "source": [
    "z = titles.select(\"titleType\").distinct()\n",
    "z.show()\n"
   ]
  },
  {
   "cell_type": "code",
   "execution_count": 14,
   "id": "298ad61f",
   "metadata": {},
   "outputs": [
    {
     "name": "stderr",
     "output_type": "stream",
     "text": [
      "[Stage 27:>                                                       (0 + 20) / 20]\r"
     ]
    },
    {
     "name": "stdout",
     "output_type": "stream",
     "text": [
      "There are 11 unique title types in the dataset\n"
     ]
    },
    {
     "name": "stderr",
     "output_type": "stream",
     "text": [
      "                                                                                \r"
     ]
    }
   ],
   "source": [
    "print(\"There are \" + str(z.count()) + \" unique title types in the dataset\")"
   ]
  },
  {
   "cell_type": "markdown",
   "id": "bf21e1b7",
   "metadata": {},
   "source": [
    "## Dataset 3 - Title Principles"
   ]
  },
  {
   "cell_type": "markdown",
   "id": "442830b8",
   "metadata": {},
   "source": [
    "Display the schema below:"
   ]
  },
  {
   "cell_type": "code",
   "execution_count": 15,
   "id": "3f6dbef1",
   "metadata": {
    "execution": {
     "iopub.execute_input": "2025-03-18T19:27:45.198155Z",
     "iopub.status.busy": "2025-03-18T19:27:45.197980Z",
     "iopub.status.idle": "2025-03-18T19:27:45.948156Z",
     "shell.execute_reply": "2025-03-18T19:27:45.947521Z",
     "shell.execute_reply.started": "2025-03-18T19:27:45.198133Z"
    },
    "tags": []
   },
   "outputs": [
    {
     "name": "stdout",
     "output_type": "stream",
     "text": [
      "+---------+--------+---------+--------+--------+----------+\n",
      "|tconst   |ordering|nconst   |category|job     |characters|\n",
      "+---------+--------+---------+--------+--------+----------+\n",
      "|tt0000003|2       |nm1770680|producer|producer|\\N        |\n",
      "|tt0000005|4       |nm0249379|producer|producer|\\N        |\n",
      "|tt0000007|5       |nm0249379|producer|producer|\\N        |\n",
      "|tt0000020|2       |nm0666972|producer|producer|\\N        |\n",
      "|tt0000024|4       |nm0666972|producer|producer|\\N        |\n",
      "|tt0000025|2       |nm0666972|producer|producer|\\N        |\n",
      "|tt0000039|1       |nm0666972|producer|producer|\\N        |\n",
      "|tt0000041|2       |nm0525908|producer|producer|\\N        |\n",
      "|tt0000061|3       |nm0666972|producer|producer|\\N        |\n",
      "|tt0000089|3       |nm0525910|producer|producer|\\N        |\n",
      "|tt0000104|1       |nm0525910|producer|producer|\\N        |\n",
      "|tt0000121|5       |nm0666972|producer|producer|\\N        |\n",
      "|tt0000125|1       |nm0666972|producer|producer|\\N        |\n",
      "|tt0000147|6       |nm0103755|producer|producer|\\N        |\n",
      "|tt0000160|2       |nm0666972|producer|producer|\\N        |\n",
      "+---------+--------+---------+--------+--------+----------+\n",
      "only showing top 15 rows\n",
      "\n",
      "root\n",
      " |-- tconst: string (nullable = true)\n",
      " |-- ordering: integer (nullable = true)\n",
      " |-- nconst: string (nullable = true)\n",
      " |-- category: string (nullable = true)\n",
      " |-- job: string (nullable = true)\n",
      " |-- characters: string (nullable = true)\n",
      "\n"
     ]
    }
   ],
   "source": [
    "principles.select(\"tconst\", \"ordering\", \"nconst\", \"category\", \"job\", \"characters\").filter(col(\"category\") == \"producer\").show(15, truncate=False)\n",
    "principles.printSchema()"
   ]
  },
  {
   "cell_type": "markdown",
   "id": "d8e128fc",
   "metadata": {},
   "source": [
    "## Dataset 3 - Title Ratings"
   ]
  },
  {
   "cell_type": "markdown",
   "id": "c40d60cd",
   "metadata": {},
   "source": [
    "Display the schema below:"
   ]
  },
  {
   "cell_type": "markdown",
   "id": "76ac1ac7",
   "metadata": {},
   "source": [
    "Display the first 10 rows in a descending order by the number of votes"
   ]
  },
  {
   "cell_type": "code",
   "execution_count": 16,
   "id": "9f663e07",
   "metadata": {
    "execution": {
     "iopub.execute_input": "2025-03-18T19:27:45.993124Z",
     "iopub.status.busy": "2025-03-18T19:27:45.992891Z",
     "iopub.status.idle": "2025-03-18T19:27:48.253798Z",
     "shell.execute_reply": "2025-03-18T19:27:48.253016Z",
     "shell.execute_reply.started": "2025-03-18T19:27:45.993091Z"
    },
    "tags": []
   },
   "outputs": [
    {
     "name": "stdout",
     "output_type": "stream",
     "text": [
      "+---------+-------------+--------+\n",
      "|tconst   |averageRating|numVotes|\n",
      "+---------+-------------+--------+\n",
      "|tt0111161|9.3          |2868594 |\n",
      "|tt0468569|9.0          |2850372 |\n",
      "|tt1375666|8.8          |2531543 |\n",
      "|tt0137523|8.8          |2303989 |\n",
      "|tt0944947|9.2          |2265760 |\n",
      "|tt0109830|8.8          |2239746 |\n",
      "|tt0110912|8.9          |2203191 |\n",
      "|tt0903747|9.5          |2114358 |\n",
      "|tt0816692|8.7          |2073181 |\n",
      "|tt0133093|8.7          |2038364 |\n",
      "+---------+-------------+--------+\n",
      "only showing top 10 rows\n",
      "\n",
      "root\n",
      " |-- tconst: string (nullable = true)\n",
      " |-- averageRating: double (nullable = true)\n",
      " |-- numVotes: integer (nullable = true)\n",
      "\n"
     ]
    }
   ],
   "source": [
    "ratings.select(\"tconst\", \"averageRating\", \"numVotes\").orderBy(col(\"numVotes\").desc()).show(10, truncate=False)\n",
    "ratings.printSchema()"
   ]
  },
  {
   "cell_type": "markdown",
   "id": "e77cf460",
   "metadata": {},
   "source": [
    "# Overview of Data"
   ]
  },
  {
   "cell_type": "markdown",
   "id": "2bc943bf",
   "metadata": {},
   "source": [
    "Display the number of rows and columns in each dataFrame object."
   ]
  },
  {
   "cell_type": "code",
   "execution_count": 17,
   "id": "9e845a6c-0355-4572-919d-d641eb6908cf",
   "metadata": {
    "execution": {
     "iopub.execute_input": "2025-03-18T19:27:48.255242Z",
     "iopub.status.busy": "2025-03-18T19:27:48.254959Z",
     "iopub.status.idle": "2025-03-18T19:28:05.580966Z",
     "shell.execute_reply": "2025-03-18T19:28:05.580245Z",
     "shell.execute_reply.started": "2025-03-18T19:27:48.255197Z"
    },
    "tags": []
   },
   "outputs": [
    {
     "name": "stdout",
     "output_type": "stream",
     "text": [
      "Number of columns in Name Basics table:  6\n"
     ]
    },
    {
     "name": "stderr",
     "output_type": "stream",
     "text": [
      "                                                                                \r"
     ]
    },
    {
     "name": "stdout",
     "output_type": "stream",
     "text": [
      "Number of rows in Name Basics table: 10613322\n",
      " \n",
      "Number of columns in Title Basics table:  9\n"
     ]
    },
    {
     "name": "stderr",
     "output_type": "stream",
     "text": [
      "                                                                                \r"
     ]
    },
    {
     "name": "stdout",
     "output_type": "stream",
     "text": [
      "Number of rows in Title Basics table: 10613322\n",
      " \n",
      "Number of columns in Title Principles table:  6\n"
     ]
    },
    {
     "name": "stderr",
     "output_type": "stream",
     "text": [
      "                                                                                \r"
     ]
    },
    {
     "name": "stdout",
     "output_type": "stream",
     "text": [
      "Number of rows in Title Principles table: 60833800\n",
      " \n",
      "Number of columns in Title Ratings table:  3\n",
      "Number of rows in Title Ratings table: 1412275\n"
     ]
    }
   ],
   "source": [
    "print(\"Number of columns in Name Basics table: \", len(name.columns))\n",
    "print(\"Number of rows in Name Basics table:\", titles.count())\n",
    "print(\" \")\n",
    "print(\"Number of columns in Title Basics table: \", len(titles.columns))\n",
    "print(\"Number of rows in Title Basics table:\", titles.count())\n",
    "print(\" \")\n",
    "print(\"Number of columns in Title Principles table: \", len(principles.columns))\n",
    "print(\"Number of rows in Title Principles table:\", principles.count())\n",
    "print(\" \")\n",
    "print(\"Number of columns in Title Ratings table: \", len(ratings.columns))\n",
    "print(\"Number of rows in Title Ratings table:\", ratings.count())"
   ]
  },
  {
   "cell_type": "markdown",
   "id": "b45c87a7",
   "metadata": {},
   "source": [
    "# PART 2 - Analyzing Movie Genres"
   ]
  },
  {
   "cell_type": "markdown",
   "id": "37c839bd",
   "metadata": {},
   "source": [
    "Questions I want to find answer to: \n",
    "* How many unique movie genres are represented in this dataset?\n",
    "* How many movies are categorized as Comedy, for instance?\n",
    "* What are the top 20 most popular genres available?"
   ]
  },
  {
   "cell_type": "markdown",
   "id": "509eb185",
   "metadata": {},
   "source": [
    "## Association Table\n"
   ]
  },
  {
   "cell_type": "code",
   "execution_count": 18,
   "id": "6da24c15",
   "metadata": {
    "execution": {
     "iopub.execute_input": "2025-03-19T20:43:07.339942Z",
     "iopub.status.busy": "2025-03-19T20:43:07.339720Z",
     "iopub.status.idle": "2025-03-19T20:43:08.093558Z",
     "shell.execute_reply": "2025-03-19T20:43:08.092963Z",
     "shell.execute_reply.started": "2025-03-19T20:43:07.339916Z"
    },
    "tags": []
   },
   "outputs": [
    {
     "name": "stdout",
     "output_type": "stream",
     "text": [
      "+---------+---------+------------------------+\n",
      "|tconst   |titleType|genres                  |\n",
      "+---------+---------+------------------------+\n",
      "|tt0000001|short    |Documentary,Short       |\n",
      "|tt0000002|short    |Animation,Short         |\n",
      "|tt0000003|short    |Animation,Comedy,Romance|\n",
      "|tt0000004|short    |Animation,Short         |\n",
      "|tt0000005|short    |Comedy,Short            |\n",
      "|tt0000006|short    |Short                   |\n",
      "|tt0000007|short    |Short,Sport             |\n",
      "|tt0000008|short    |Documentary,Short       |\n",
      "|tt0000009|movie    |Romance                 |\n",
      "|tt0000010|short    |Documentary,Short       |\n",
      "|tt0000011|short    |Documentary,Short       |\n",
      "|tt0000012|short    |Documentary,Short       |\n",
      "|tt0000013|short    |Documentary,Short       |\n",
      "|tt0000014|short    |Comedy,Short            |\n",
      "|tt0000015|short    |Animation,Short         |\n",
      "+---------+---------+------------------------+\n",
      "only showing top 15 rows\n",
      "\n"
     ]
    }
   ],
   "source": [
    "association = titles.select(\"tconst\", \"titleType\", \"genres\")\n",
    "association.show(15, truncate=False)"
   ]
  },
  {
   "cell_type": "markdown",
   "id": "7e215c7e",
   "metadata": {},
   "source": [
    "Denormalization Process"
   ]
  },
  {
   "cell_type": "code",
   "execution_count": 19,
   "id": "eee1cc98",
   "metadata": {
    "execution": {
     "iopub.execute_input": "2025-03-19T20:43:08.094803Z",
     "iopub.status.busy": "2025-03-19T20:43:08.094634Z",
     "iopub.status.idle": "2025-03-19T20:43:08.962860Z",
     "shell.execute_reply": "2025-03-19T20:43:08.962104Z",
     "shell.execute_reply.started": "2025-03-19T20:43:08.094780Z"
    },
    "tags": []
   },
   "outputs": [
    {
     "name": "stdout",
     "output_type": "stream",
     "text": [
      "+---------+---------+-----------+\n",
      "|tconst   |titleType|genres     |\n",
      "+---------+---------+-----------+\n",
      "|tt0000001|short    |Documentary|\n",
      "|tt0000001|short    |Short      |\n",
      "|tt0000002|short    |Animation  |\n",
      "|tt0000002|short    |Short      |\n",
      "|tt0000003|short    |Animation  |\n",
      "|tt0000003|short    |Comedy     |\n",
      "|tt0000003|short    |Romance    |\n",
      "|tt0000004|short    |Animation  |\n",
      "|tt0000004|short    |Short      |\n",
      "|tt0000005|short    |Comedy     |\n",
      "|tt0000005|short    |Short      |\n",
      "|tt0000006|short    |Short      |\n",
      "|tt0000007|short    |Short      |\n",
      "|tt0000007|short    |Sport      |\n",
      "|tt0000008|short    |Documentary|\n",
      "|tt0000008|short    |Short      |\n",
      "|tt0000009|movie    |Romance    |\n",
      "|tt0000010|short    |Documentary|\n",
      "|tt0000010|short    |Short      |\n",
      "|tt0000011|short    |Documentary|\n",
      "|tt0000011|short    |Short      |\n",
      "|tt0000012|short    |Documentary|\n",
      "|tt0000012|short    |Short      |\n",
      "|tt0000013|short    |Documentary|\n",
      "|tt0000013|short    |Short      |\n",
      "+---------+---------+-----------+\n",
      "only showing top 25 rows\n",
      "\n"
     ]
    }
   ],
   "source": [
    "association_derived = association.withColumn(\"genres\", explode(split('genres',',')))\n",
    "association_derived.show(25, truncate=False)"
   ]
  },
  {
   "cell_type": "markdown",
   "id": "9a80280d",
   "metadata": {},
   "source": [
    "## Total Unique Movie Genres"
   ]
  },
  {
   "cell_type": "markdown",
   "id": "b0db9e0c",
   "metadata": {},
   "source": [
    "What is the total number of unique movie genres?"
   ]
  },
  {
   "cell_type": "code",
   "execution_count": 24,
   "id": "c6044252",
   "metadata": {
    "execution": {
     "iopub.execute_input": "2025-03-19T20:43:08.964864Z",
     "iopub.status.busy": "2025-03-19T20:43:08.964604Z",
     "iopub.status.idle": "2025-03-19T20:43:20.250986Z",
     "shell.execute_reply": "2025-03-19T20:43:20.250205Z",
     "shell.execute_reply.started": "2025-03-19T20:43:08.964827Z"
    },
    "tags": []
   },
   "outputs": [
    {
     "name": "stderr",
     "output_type": "stream",
     "text": [
      "[Stage 67:================>                                       (6 + 14) / 20]\r"
     ]
    },
    {
     "name": "stdout",
     "output_type": "stream",
     "text": [
      "The Number Of Unique Movie Genres: 29\n"
     ]
    },
    {
     "name": "stderr",
     "output_type": "stream",
     "text": [
      "                                                                                \r"
     ]
    }
   ],
   "source": [
    "unique_genres = association_derived.select(\"genres\").distinct().count()\n",
    "print(\"The Number Of Unique Movie Genres:\", unique_genres)"
   ]
  },
  {
   "cell_type": "markdown",
   "id": "5819adcc",
   "metadata": {},
   "source": [
    "What are the unique movie genres?"
   ]
  },
  {
   "cell_type": "code",
   "execution_count": 33,
   "id": "79b89d40",
   "metadata": {},
   "outputs": [
    {
     "name": "stderr",
     "output_type": "stream",
     "text": [
      "[Stage 128:==>                                                    (1 + 19) / 20]\r"
     ]
    },
    {
     "name": "stdout",
     "output_type": "stream",
     "text": [
      "+-----------+\n",
      "|genres     |\n",
      "+-----------+\n",
      "|Crime      |\n",
      "|Romance    |\n",
      "|Thriller   |\n",
      "|Adventure  |\n",
      "|\\N         |\n",
      "|Drama      |\n",
      "|War        |\n",
      "|Documentary|\n",
      "|Reality-TV |\n",
      "|Family     |\n",
      "|Fantasy    |\n",
      "|Game-Show  |\n",
      "|Adult      |\n",
      "|History    |\n",
      "|Mystery    |\n",
      "|Musical    |\n",
      "|Animation  |\n",
      "|Music      |\n",
      "|Film-Noir  |\n",
      "|Short      |\n",
      "|Horror     |\n",
      "|Western    |\n",
      "|Biography  |\n",
      "|Comedy     |\n",
      "|Sport      |\n",
      "|Action     |\n",
      "|Talk-Show  |\n",
      "|Sci-Fi     |\n",
      "|News       |\n",
      "+-----------+\n",
      "\n"
     ]
    },
    {
     "name": "stderr",
     "output_type": "stream",
     "text": [
      "                                                                                \r"
     ]
    }
   ],
   "source": [
    "a = association_derived.select(\"genres\").distinct()\n",
    "a.show(30, truncate=False)"
   ]
  },
  {
   "cell_type": "code",
   "execution_count": 34,
   "id": "e699b5ae",
   "metadata": {
    "execution": {
     "iopub.execute_input": "2025-03-19T20:43:31.544128Z",
     "iopub.status.busy": "2025-03-19T20:43:31.543949Z",
     "iopub.status.idle": "2025-03-19T20:43:42.824764Z",
     "shell.execute_reply": "2025-03-19T20:43:42.823857Z",
     "shell.execute_reply.started": "2025-03-19T20:43:31.544104Z"
    },
    "tags": []
   },
   "outputs": [
    {
     "name": "stderr",
     "output_type": "stream",
     "text": [
      "[Stage 131:=====>                                                 (2 + 18) / 20]\r"
     ]
    },
    {
     "name": "stdout",
     "output_type": "stream",
     "text": [
      "+-----------+\n",
      "|genres     |\n",
      "+-----------+\n",
      "|Crime      |\n",
      "|Romance    |\n",
      "|Thriller   |\n",
      "|Adventure  |\n",
      "|Drama      |\n",
      "|War        |\n",
      "|Documentary|\n",
      "|Reality-TV |\n",
      "|Family     |\n",
      "|Fantasy    |\n",
      "|Game-Show  |\n",
      "|Adult      |\n",
      "|History    |\n",
      "|Mystery    |\n",
      "|Musical    |\n",
      "|Animation  |\n",
      "|Music      |\n",
      "|Film-Noir  |\n",
      "|Short      |\n",
      "|Horror     |\n",
      "|Western    |\n",
      "|Biography  |\n",
      "|Comedy     |\n",
      "|Sport      |\n",
      "|Action     |\n",
      "|Talk-Show  |\n",
      "|Sci-Fi     |\n",
      "|News       |\n",
      "+-----------+\n",
      "\n"
     ]
    },
    {
     "name": "stderr",
     "output_type": "stream",
     "text": [
      "                                                                                \r"
     ]
    }
   ],
   "source": [
    "\n",
    "b = a.filter(col(\"genres\") != \"\\\\N\") #Removing the \"N\" values from the dataset\n",
    "b.show(30, truncate=False)"
   ]
  },
  {
   "cell_type": "markdown",
   "id": "b7d29ebd",
   "metadata": {},
   "source": [
    "## Top Genres by Movies\n",
    "\n",
    "Now let's find the highest rated genres in this dataset by rolling up genres."
   ]
  },
  {
   "cell_type": "markdown",
   "id": "de4c28e3",
   "metadata": {},
   "source": [
    "### Average Rating / Genre"
   ]
  },
  {
   "cell_type": "markdown",
   "id": "15423dc6",
   "metadata": {},
   "source": [
    "First, let's join our two dataframes (title ratings and title basics) by tconst. Using inner join. "
   ]
  },
  {
   "cell_type": "code",
   "execution_count": 35,
   "id": "dd8e060c",
   "metadata": {},
   "outputs": [
    {
     "name": "stderr",
     "output_type": "stream",
     "text": [
      "[Stage 135:======================================>                  (4 + 2) / 6]\r"
     ]
    },
    {
     "name": "stdout",
     "output_type": "stream",
     "text": [
      "+---------+---------+--------------------+--------------------+-------+---------+-------+--------------+--------------------+-------------+--------+\n",
      "|   tconst|titleType|        primaryTitle|       originalTitle|isAdult|startYear|endYear|runtimeMinutes|              genres|averageRating|numVotes|\n",
      "+---------+---------+--------------------+--------------------+-------+---------+-------+--------------+--------------------+-------------+--------+\n",
      "|tt0000015|    short| Autour d'une cabine| Autour d'une cabine|      0|     1894|     \\N|             2|     Animation,Short|          6.1|    1150|\n",
      "|tt0000019|    short|    The Clown Barber|    The Clown Barber|      0|     1898|     \\N|            \\N|        Comedy,Short|          5.1|      32|\n",
      "|tt0000058|    short|Cortège de tzar a...|Cortège de tzar a...|      0|     1896|     \\N|            \\N|   Documentary,Short|          4.2|      34|\n",
      "|tt0000095|    short|The Mysterious Paper|    Le papier protée|      0|     1896|     \\N|            \\N|               Short|          4.8|      35|\n",
      "|tt0000145|    short|           En classe|           En classe|      0|     1897|     \\N|            \\N|        Comedy,Short|          3.5|      14|\n",
      "|tt0000146|    short|Le cocher de fiac...|Le cocher de fiac...|      0|     1897|     \\N|            \\N|        Comedy,Short|          5.0|      27|\n",
      "|tt0000174|    short|Výstavní párkar a...|Výstavní párkar a...|      0|     1898|     \\N|             1|        Comedy,Short|          4.6|     134|\n",
      "|tt0000186|    short|   Le cuirassé Maine|   Le cuirassé Maine|      0|     1898|     \\N|            \\N|           Short,War|          4.5|      23|\n",
      "|tt0000264|    short|Summoning the Spi...|   Évocation spirite|      0|     1899|     \\N|             1|Fantasy,Horror,Short|          5.7|     477|\n",
      "|tt0000302|    short|La fée aux choux,...|La fée aux choux,...|      0|     1900|     \\N|             1|               Short|          5.2|     266|\n",
      "+---------+---------+--------------------+--------------------+-------+---------+-------+--------------+--------------------+-------------+--------+\n",
      "only showing top 10 rows\n",
      "\n"
     ]
    },
    {
     "name": "stderr",
     "output_type": "stream",
     "text": [
      "                                                                                \r"
     ]
    }
   ],
   "source": [
    "ratings_genres = titles.join(ratings, on=\"tconst\", how=\"inner\").show(10)"
   ]
  },
  {
   "cell_type": "code",
   "execution_count": 36,
   "id": "71b5d21b",
   "metadata": {
    "execution": {
     "iopub.execute_input": "2025-03-19T20:43:42.826788Z",
     "iopub.status.busy": "2025-03-19T20:43:42.826211Z",
     "iopub.status.idle": "2025-03-19T20:43:52.109587Z",
     "shell.execute_reply": "2025-03-19T20:43:52.108875Z",
     "shell.execute_reply.started": "2025-03-19T20:43:42.826746Z"
    },
    "tags": []
   },
   "outputs": [
    {
     "name": "stderr",
     "output_type": "stream",
     "text": [
      "[Stage 140:>                                                        (0 + 6) / 6]\r"
     ]
    },
    {
     "name": "stdout",
     "output_type": "stream",
     "text": [
      "+---------+-------------+\n",
      "|   genres|averageRating|\n",
      "+---------+-------------+\n",
      "|    Drama|          4.5|\n",
      "|    Drama|          4.5|\n",
      "|  Romance|          4.5|\n",
      "|Biography|          6.6|\n",
      "|    Drama|          6.6|\n",
      "|  Romance|          6.6|\n",
      "|    Crime|          6.0|\n",
      "| Thriller|          6.0|\n",
      "|    Crime|          6.9|\n",
      "|    Drama|          6.9|\n",
      "+---------+-------------+\n",
      "only showing top 10 rows\n",
      "\n"
     ]
    },
    {
     "name": "stderr",
     "output_type": "stream",
     "text": [
      "                                                                                \r"
     ]
    }
   ],
   "source": [
    "ratings_genres = titles.join(ratings, on=\"tconst\", how=\"inner\") \\\n",
    "                      .where(col(\"titleType\") == \"movie\") \\\n",
    "                      .where(col(\"genres\") != \"\\\\N\") \\\n",
    "                      .withColumn(\"genres\", explode(split('genres',','))) \\\n",
    "                      .select(\"genres\", \"averageRating\")\n",
    "ratings_genres.show(10)"
   ]
  },
  {
   "cell_type": "markdown",
   "id": "98094ca8",
   "metadata": {},
   "source": [
    "Now, let's aggregate along the averageRating column to get a resultant dataframe that displays average rating per genre."
   ]
  },
  {
   "cell_type": "code",
   "execution_count": 37,
   "id": "317c522c",
   "metadata": {
    "execution": {
     "iopub.execute_input": "2025-03-19T20:43:52.110732Z",
     "iopub.status.busy": "2025-03-19T20:43:52.110555Z",
     "iopub.status.idle": "2025-03-19T20:44:03.405066Z",
     "shell.execute_reply": "2025-03-19T20:44:03.404431Z",
     "shell.execute_reply.started": "2025-03-19T20:43:52.110708Z"
    },
    "tags": []
   },
   "outputs": [
    {
     "name": "stderr",
     "output_type": "stream",
     "text": [
      "[Stage 145:======================================>                  (4 + 2) / 6]\r"
     ]
    },
    {
     "name": "stdout",
     "output_type": "stream",
     "text": [
      "+-----------+-------------+\n",
      "|genres     |averageRating|\n",
      "+-----------+-------------+\n",
      "|Crime      |5.985        |\n",
      "|Romance    |6.102        |\n",
      "|Thriller   |5.613        |\n",
      "|Adventure  |5.866        |\n",
      "|Drama      |6.248        |\n",
      "|War        |6.403        |\n",
      "|Documentary|7.216        |\n",
      "|Reality-TV |6.701        |\n",
      "|Family     |6.205        |\n",
      "|Fantasy    |5.898        |\n",
      "|Adult      |5.554        |\n",
      "|History    |6.798        |\n",
      "|Mystery    |5.847        |\n",
      "|Musical    |6.187        |\n",
      "|Animation  |6.367        |\n",
      "|Music      |6.755        |\n",
      "|Film-Noir  |6.463        |\n",
      "|Horror     |5.002        |\n",
      "|Western    |5.84         |\n",
      "|Biography  |6.951        |\n",
      "+-----------+-------------+\n",
      "only showing top 20 rows\n",
      "\n"
     ]
    },
    {
     "name": "stderr",
     "output_type": "stream",
     "text": [
      "                                                                                \r"
     ]
    }
   ],
   "source": [
    "from pyspark.sql.functions import round\n",
    "ratings_genres_agg = ratings_genres.groupBy(\"genres\") \\\n",
    "                                   .agg({\"averageRating\": \"avg\"}) \\\n",
    "                                   .withColumnRenamed(\"avg(averageRating)\", \"averageRating\") \\\n",
    "                                   .withColumn(\"averageRating\", round(col(\"averageRating\"), 3)) \\\n",
    "                                   .filter(col(\"genres\") != \"\\\\N\")\n",
    "\n",
    "ratings_genres_agg.show(20, truncate=False)"
   ]
  },
  {
   "cell_type": "markdown",
   "id": "b1fd4e61",
   "metadata": {},
   "source": [
    "### Horizontal Bar Chart of Top Genres"
   ]
  },
  {
   "cell_type": "code",
   "execution_count": 38,
   "id": "2865ccdb",
   "metadata": {
    "execution": {
     "iopub.execute_input": "2025-03-19T20:44:03.407945Z",
     "iopub.status.busy": "2025-03-19T20:44:03.407697Z",
     "iopub.status.idle": "2025-03-19T20:44:12.701383Z",
     "shell.execute_reply": "2025-03-19T20:44:12.700508Z",
     "shell.execute_reply.started": "2025-03-19T20:44:03.407909Z"
    },
    "tags": []
   },
   "outputs": [
    {
     "name": "stderr",
     "output_type": "stream",
     "text": [
      "[Stage 154:>                                                        (0 + 6) / 6]\r"
     ]
    },
    {
     "name": "stdout",
     "output_type": "stream",
     "text": [
      "+-----------+-------------+\n",
      "|genres     |averageRating|\n",
      "+-----------+-------------+\n",
      "|Documentary|7.216        |\n",
      "|News       |7.203        |\n",
      "|Biography  |6.951        |\n",
      "|Game-Show  |6.88         |\n",
      "|Talk-Show  |6.858        |\n",
      "|History    |6.798        |\n",
      "|Music      |6.755        |\n",
      "|Reality-TV |6.701        |\n",
      "|Sport      |6.623        |\n",
      "|Film-Noir  |6.463        |\n",
      "|War        |6.403        |\n",
      "|Animation  |6.367        |\n",
      "|Drama      |6.248        |\n",
      "|Family     |6.205        |\n",
      "|Musical    |6.187        |\n",
      "|Romance    |6.102        |\n",
      "|Crime      |5.985        |\n",
      "|Comedy     |5.906        |\n",
      "|Fantasy    |5.898        |\n",
      "|Adventure  |5.866        |\n",
      "|Mystery    |5.847        |\n",
      "|Western    |5.84         |\n",
      "|Action     |5.732        |\n",
      "|Thriller   |5.613        |\n",
      "|Adult      |5.554        |\n",
      "|Sci-Fi     |5.353        |\n",
      "|Horror     |5.002        |\n",
      "|Short      |5.0          |\n",
      "+-----------+-------------+\n",
      "\n"
     ]
    },
    {
     "name": "stderr",
     "output_type": "stream",
     "text": [
      "                                                                                \r"
     ]
    }
   ],
   "source": [
    "s_ratings = ratings_genres_agg.sort(col(\"averageRating\").desc())\n",
    "s_ratings.show(30, truncate=False)"
   ]
  },
  {
   "cell_type": "code",
   "execution_count": 40,
   "id": "77c3f371-a60e-4711-89ea-5aa032949514",
   "metadata": {
    "execution": {
     "iopub.execute_input": "2025-03-19T20:44:12.702739Z",
     "iopub.status.busy": "2025-03-19T20:44:12.702558Z",
     "iopub.status.idle": "2025-03-19T20:44:21.997679Z",
     "shell.execute_reply": "2025-03-19T20:44:21.997065Z",
     "shell.execute_reply.started": "2025-03-19T20:44:12.702716Z"
    },
    "tags": []
   },
   "outputs": [
    {
     "data": {
      "image/png": "[encoded data removed]",
      "text/plain": [
       "<Figure size 1000x800 with 1 Axes>"
      ]
     },
     "metadata": {},
     "output_type": "display_data"
    }
   ],
   "source": [
    "#Converting to Pandas DataFrame for Visualization\n",
    "df_pandas = s_ratings.toPandas()\n",
    "df_pandas = df_pandas.sort_values(by=\"averageRating\", ascending=True)\n",
    "\n",
    "#Plotting Genres as X-axis and averageRating as Y-axis\n",
    "plt.figure(figsize=(10, 8))\n",
    "plt.barh(df_pandas[\"genres\"], df_pandas[\"averageRating\"], color='darkviolet', height=0.6)\n",
    "\n",
    "#Setting the range of the x-axis\n",
    "plt.xlim(4.5, 7.5)\n",
    "\n",
    "plt.xlabel(\"Average Rating\")\n",
    "plt.ylabel(\"Genres\")\n",
    "plt.title(\"Top Genres in Movie Category\")\n",
    "\n",
    "plt.legend([\"Rating\"], loc=\"lower right\")\n",
    "\n",
    "plt.show()"
   ]
  },
  {
   "cell_type": "markdown",
   "id": "3671c612",
   "metadata": {},
   "source": [
    "# PART 3 - Analyzing Job Categories"
   ]
  },
  {
   "cell_type": "markdown",
   "id": "2912a0ba",
   "metadata": {},
   "source": [
    "### Total Unique Job Categories"
   ]
  },
  {
   "cell_type": "markdown",
   "id": "099531c0",
   "metadata": {},
   "source": [
    "What is the total number of unique job categories?"
   ]
  },
  {
   "cell_type": "code",
   "execution_count": 41,
   "id": "bf5ea336",
   "metadata": {
    "execution": {
     "iopub.execute_input": "2025-03-19T20:44:21.998719Z",
     "iopub.status.busy": "2025-03-19T20:44:21.998548Z",
     "iopub.status.idle": "2025-03-19T20:44:22.809879Z",
     "shell.execute_reply": "2025-03-19T20:44:22.809022Z",
     "shell.execute_reply.started": "2025-03-19T20:44:21.998696Z"
    },
    "tags": []
   },
   "outputs": [
    {
     "name": "stdout",
     "output_type": "stream",
     "text": [
      "+---------+---------------+\n",
      "|   tconst|       category|\n",
      "+---------+---------------+\n",
      "|tt0000001|           self|\n",
      "|tt0000001|       director|\n",
      "|tt0000001|cinematographer|\n",
      "|tt0000002|       director|\n",
      "|tt0000002|       composer|\n",
      "|tt0000003|       director|\n",
      "|tt0000003|       producer|\n",
      "|tt0000003|       composer|\n",
      "|tt0000003|         editor|\n",
      "|tt0000004|       director|\n",
      "|tt0000004|       composer|\n",
      "|tt0000005|          actor|\n",
      "|tt0000005|          actor|\n",
      "|tt0000005|       director|\n",
      "|tt0000005|       producer|\n",
      "|tt0000006|       director|\n",
      "|tt0000007|          actor|\n",
      "|tt0000007|          actor|\n",
      "|tt0000007|       director|\n",
      "|tt0000007|       director|\n",
      "|tt0000007|       producer|\n",
      "|tt0000008|          actor|\n",
      "|tt0000008|       director|\n",
      "|tt0000008|cinematographer|\n",
      "|tt0000009|        actress|\n",
      "|tt0000009|          actor|\n",
      "|tt0000009|          actor|\n",
      "|tt0000009|       director|\n",
      "|tt0000010|       director|\n",
      "|tt0000011|          actor|\n",
      "+---------+---------------+\n",
      "only showing top 30 rows\n",
      "\n"
     ]
    }
   ],
   "source": [
    "principles.select(\"tconst\", \"category\").show(30)"
   ]
  },
  {
   "cell_type": "markdown",
   "id": "c3b2f7b4",
   "metadata": {},
   "source": [
    "What are the unique job categories available?"
   ]
  },
  {
   "cell_type": "code",
   "execution_count": 42,
   "id": "e03438b0",
   "metadata": {
    "execution": {
     "iopub.execute_input": "2025-03-19T20:44:22.811464Z",
     "iopub.status.busy": "2025-03-19T20:44:22.811140Z",
     "iopub.status.idle": "2025-03-19T20:44:52.150261Z",
     "shell.execute_reply": "2025-03-19T20:44:52.149621Z",
     "shell.execute_reply.started": "2025-03-19T20:44:22.811411Z"
    },
    "tags": []
   },
   "outputs": [
    {
     "name": "stderr",
     "output_type": "stream",
     "text": [
      "[Stage 186:================>                                      (6 + 14) / 20]\r"
     ]
    },
    {
     "name": "stdout",
     "output_type": "stream",
     "text": [
      "+-------------------+\n",
      "|category           |\n",
      "+-------------------+\n",
      "|actress            |\n",
      "|producer           |\n",
      "|writer             |\n",
      "|composer           |\n",
      "|director           |\n",
      "|self               |\n",
      "|actor              |\n",
      "|editor             |\n",
      "|cinematographer    |\n",
      "|archive_sound      |\n",
      "|production_designer|\n",
      "|archive_footage    |\n",
      "+-------------------+\n",
      "\n"
     ]
    },
    {
     "name": "stderr",
     "output_type": "stream",
     "text": [
      "                                                                                \r"
     ]
    }
   ],
   "source": [
    "principles.select(\"category\").distinct().show(truncate=False)"
   ]
  },
  {
   "cell_type": "markdown",
   "id": "47312540",
   "metadata": {},
   "source": [
    "## Top Job Categories"
   ]
  },
  {
   "cell_type": "markdown",
   "id": "61df21f0",
   "metadata": {},
   "source": [
    "Now let's find the top job categories in this dataset by rolling up categories."
   ]
  },
  {
   "cell_type": "markdown",
   "id": "2d56869a",
   "metadata": {},
   "source": [
    "### Counts of Titles / Job Category"
   ]
  },
  {
   "cell_type": "markdown",
   "id": "ae87af2f",
   "metadata": {},
   "source": [
    "The expected output should be:\n",
    "\n",
    "| category | count |\n",
    "|-------------|------------|\n",
    "| a     | 15         |\n",
    "| b     | 2          |\n",
    "| c     | 45          |\n",
    "\n",
    "Or something to that effect."
   ]
  },
  {
   "cell_type": "code",
   "execution_count": 43,
   "id": "f3d65964",
   "metadata": {
    "execution": {
     "iopub.execute_input": "2025-03-19T20:44:52.151745Z",
     "iopub.status.busy": "2025-03-19T20:44:52.151494Z",
     "iopub.status.idle": "2025-03-19T20:45:21.486415Z",
     "shell.execute_reply": "2025-03-19T20:45:21.485793Z",
     "shell.execute_reply.started": "2025-03-19T20:44:52.151709Z"
    },
    "tags": []
   },
   "outputs": [
    {
     "name": "stderr",
     "output_type": "stream",
     "text": [
      "[Stage 189:===================================>                   (13 + 7) / 20]\r"
     ]
    },
    {
     "name": "stdout",
     "output_type": "stream",
     "text": [
      "+-------------------+--------+\n",
      "|           category|   count|\n",
      "+-------------------+--------+\n",
      "|            actress|10492210|\n",
      "|           producer| 3944711|\n",
      "|             writer| 8495903|\n",
      "|           composer| 2014049|\n",
      "|           director| 7006843|\n",
      "|               self|10562296|\n",
      "|              actor|13443688|\n",
      "|             editor| 2012800|\n",
      "|    cinematographer| 2068164|\n",
      "|      archive_sound|    4794|\n",
      "|production_designer|  383761|\n",
      "|    archive_footage|  404581|\n",
      "+-------------------+--------+\n",
      "\n"
     ]
    },
    {
     "name": "stderr",
     "output_type": "stream",
     "text": [
      "                                                                                \r"
     ]
    }
   ],
   "source": [
    "principles.select(\"tconst\", \"category\").groupBy(\"category\").count().show()"
   ]
  },
  {
   "cell_type": "markdown",
   "id": "f8671889",
   "metadata": {},
   "source": [
    "### Bar Chart of Top Job Categories\n",
    "\n",
    "With this data available, let us now build a barchart of the top 5 categories. \n",
    "\n",
    "**HINT**: don't forget about the matplotlib magic!\n",
    "\n",
    "```\n",
    "%matplot plt\n",
    "```"
   ]
  },
  {
   "cell_type": "code",
   "execution_count": 44,
   "id": "3c73edf1",
   "metadata": {
    "execution": {
     "iopub.execute_input": "2025-03-19T20:45:21.487849Z",
     "iopub.status.busy": "2025-03-19T20:45:21.487599Z",
     "iopub.status.idle": "2025-03-19T20:45:50.818981Z",
     "shell.execute_reply": "2025-03-19T20:45:50.818189Z",
     "shell.execute_reply.started": "2025-03-19T20:45:21.487812Z"
    },
    "tags": []
   },
   "outputs": [
    {
     "name": "stderr",
     "output_type": "stream",
     "text": [
      "[Stage 192:========>                                              (3 + 17) / 20]\r"
     ]
    },
    {
     "name": "stdout",
     "output_type": "stream",
     "text": [
      "+-------------------+--------+\n",
      "|           category|   count|\n",
      "+-------------------+--------+\n",
      "|              actor|13443688|\n",
      "|               self|10562296|\n",
      "|            actress|10492210|\n",
      "|             writer| 8495903|\n",
      "|           director| 7006843|\n",
      "|           producer| 3944711|\n",
      "|    cinematographer| 2068164|\n",
      "|           composer| 2014049|\n",
      "|             editor| 2012800|\n",
      "|    archive_footage|  404581|\n",
      "|production_designer|  383761|\n",
      "|      archive_sound|    4794|\n",
      "+-------------------+--------+\n",
      "\n"
     ]
    },
    {
     "name": "stderr",
     "output_type": "stream",
     "text": [
      "                                                                                \r"
     ]
    }
   ],
   "source": [
    "p_final = principles.select(\"tconst\", \"category\").groupBy(\"category\").count().sort(col(\"count\").desc())\n",
    "p_final.show()"
   ]
  },
  {
   "cell_type": "markdown",
   "id": "e54dd8ef-f32a-4e61-aab4-54aadd71eb58",
   "metadata": {},
   "source": [
    "You do not have to match the color and the figure size but all other aspects of the graph should be matched.\n",
    "\n",
    "Hint: Google limit() in PySpark."
   ]
  },
  {
   "cell_type": "code",
   "execution_count": 45,
   "id": "7c0148b5-32e6-4112-958e-1405518b2bbd",
   "metadata": {
    "execution": {
     "iopub.execute_input": "2025-03-19T21:01:33.181189Z",
     "iopub.status.busy": "2025-03-19T21:01:33.180959Z",
     "iopub.status.idle": "2025-03-19T21:02:12.534697Z",
     "shell.execute_reply": "2025-03-19T21:02:12.534134Z",
     "shell.execute_reply.started": "2025-03-19T21:01:33.181165Z"
    }
   },
   "outputs": [
    {
     "name": "stderr",
     "output_type": "stream",
     "text": [
      "                                                                                \r"
     ]
    }
   ],
   "source": [
    "#Converting back to Pandas DataFrame for Plotting\n",
    "p_final = p_final.limit(5)\n",
    "df_prin = p_final.toPandas()"
   ]
  },
  {
   "cell_type": "code",
   "execution_count": 57,
   "id": "2a710619-1fc1-49bc-889e-a27bdaf4c845",
   "metadata": {
    "execution": {
     "iopub.execute_input": "2025-03-19T21:09:56.992620Z",
     "iopub.status.busy": "2025-03-19T21:09:56.992397Z",
     "iopub.status.idle": "2025-03-19T21:09:57.240304Z",
     "shell.execute_reply": "2025-03-19T21:09:57.239658Z",
     "shell.execute_reply.started": "2025-03-19T21:09:56.992594Z"
    },
    "tags": []
   },
   "outputs": [
    {
     "name": "stderr",
     "output_type": "stream",
     "text": [
      "/var/folders/0c/_b9vm9gd0g3550f2fnprbxyh0000gn/T/ipykernel_22392/2820135780.py:10: UserWarning: set_ticklabels() should only be used with a fixed number of ticks, i.e. after set_ticks() or using a FixedLocator.\n",
      "  ax.set_xticklabels(df_prin[\"category\"])\n"
     ]
    },
    {
     "data": {
      "image/png": "[encoded data removed]",
      "text/plain": [
       "<Figure size 1000x600 with 1 Axes>"
      ]
     },
     "metadata": {},
     "output_type": "display_data"
    }
   ],
   "source": [
    "# Ploting\n",
    "fig, ax = plt.subplots(figsize=(10, 6))\n",
    "ax.bar(df_prin[\"category\"], df_prin[\"count\"], color=\"orange\", width=0.5)\n",
    "\n",
    "#Customization\n",
    "ax.set_xlabel(\"Job Categories\")\n",
    "ax.set_ylabel(\"Count\")\n",
    "ax.set_title(\"Top Job Categories\")\n",
    "\n",
    "ax.set_xticklabels(df_prin[\"category\"])\n",
    "\n",
    "ax.legend([\"count\"], loc=\"upper right\")\n",
    "\n",
    "ax.yaxis.set_major_formatter(plt.FuncFormatter(lambda x, p: f'{int(x/1e6)}M'))\n",
    "ax.set_ylim(bottom=2000000)\n",
    "\n",
    "# Show plot\n",
    "plt.show()"
   ]
  },
  {
   "cell_type": "code",
   "execution_count": null,
   "id": "95a3e5e8",
   "metadata": {},
   "outputs": [],
   "source": []
  }
 ],
 "metadata": {
  "kernelspec": {
   "display_name": "PySpark",
   "language": "python",
   "name": "pyspark"
  },
  "language_info": {
   "codemirror_mode": {
    "name": "ipython",
    "version": 3
   },
   "file_extension": ".py",
   "mimetype": "text/x-python",
   "name": "python",
   "nbconvert_exporter": "python",
   "pygments_lexer": "ipython3",
   "version": "3.12.7"
  }
 },
 "nbformat": 4,
 "nbformat_minor": 5
}
